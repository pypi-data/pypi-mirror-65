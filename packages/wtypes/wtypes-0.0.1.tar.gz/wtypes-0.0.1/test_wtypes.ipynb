{
 "cells": [
  {
   "cell_type": "code",
   "execution_count": 1,
   "metadata": {},
   "outputs": [],
   "source": [
    "    from wtypes import *\n",
    "    import pytest, anyconfig"
   ]
  },
  {
   "cell_type": "code",
   "execution_count": 2,
   "metadata": {},
   "outputs": [],
   "source": [
    "    def test_load_config():\n",
    "        class BadProject(Bunch):\n",
    "            tool: Dict\n",
    "            __annotations__ = {'build-system': Integer}\n",
    "\n",
    "        with pytest.raises(ValidationError):\n",
    "            BadProject().load('pyproject.toml')\n",
    "        \n",
    "        class PyProject(Bunch):\n",
    "            tool: Dict\n",
    "            __annotations__ = {'build-system': Dict}\n",
    "        PyProject().load('pyproject.toml')"
   ]
  },
  {
   "cell_type": "code",
   "execution_count": 3,
   "metadata": {},
   "outputs": [],
   "source": [
    "    def test_dict():\n",
    "        class Thing(Dict):\n",
    "            a: Integer\n",
    "\n",
    "        assert Thing._schema.toDict() == {'type': 'object', 'properties': {'a': {'type': 'integer'}}}\n",
    "        assert Thing(a=1)\n",
    "        with pytest.raises(ValidationError):\n",
    "            Thing(a='abc')\n"
   ]
  },
  {
   "cell_type": "code",
   "execution_count": 4,
   "metadata": {},
   "outputs": [],
   "source": [
    "    def test_bunch():\n",
    "        class Thing(Bunch):\n",
    "            a: Integer\n",
    "\n",
    "        assert Thing._schema.toDict() == {'type': 'object', 'properties': {'a': {'type': 'integer'}}}\n",
    "        t = Thing(a=1)\n",
    "        assert t.a == 1\n",
    "        with pytest.raises(ValidationError):\n",
    "            Thing(a='abc')\n"
   ]
  },
  {
   "cell_type": "code",
   "execution_count": 5,
   "metadata": {},
   "outputs": [],
   "source": [
    "    def test_dataclass():\n",
    "        class Thing(DataClass):\n",
    "            a: Integer\n",
    "\n",
    "        assert dataclasses.is_dataclass(Thing)\n",
    "        assert Thing._schema.toDict() == {'type': 'object', 'properties': {'a': {'type': 'integer'}}}\n",
    "        assert Thing(a=1)\n",
    "        with pytest.raises(ValidationError):\n",
    "            Thing(a='abc')\n"
   ]
  }
 ],
 "metadata": {
  "kernelspec": {
   "display_name": "Python 3",
   "language": "python",
   "name": "python3"
  },
  "language_info": {
   "codemirror_mode": {
    "name": "ipython",
    "version": 3
   },
   "file_extension": ".py",
   "mimetype": "text/x-python",
   "name": "python",
   "nbconvert_exporter": "python",
   "pygments_lexer": "ipython3",
   "version": "3.7.3"
  }
 },
 "nbformat": 4,
 "nbformat_minor": 4
}
