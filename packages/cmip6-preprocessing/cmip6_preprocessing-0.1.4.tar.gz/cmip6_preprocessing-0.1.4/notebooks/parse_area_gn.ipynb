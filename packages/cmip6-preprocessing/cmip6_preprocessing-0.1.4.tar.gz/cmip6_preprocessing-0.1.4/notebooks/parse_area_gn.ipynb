{
 "cells": [
  {
   "cell_type": "markdown",
   "metadata": {},
   "source": [
    "# Extract areas from all available parameters and parse based on `source_id`"
   ]
  },
  {
   "cell_type": "code",
   "execution_count": 1,
   "metadata": {},
   "outputs": [
    {
     "name": "stderr",
     "output_type": "stream",
     "text": [
      "/srv/conda/envs/notebook/lib/python3.7/site-packages/intake/source/discovery.py:136: FutureWarning: The drivers ['stac-catalog', 'stac-collection', 'stac-item'] do not specify entry_points and were only discovered via a package scan. This may break in a future release of intake. The packages should be updated.\n",
      "  FutureWarning)\n"
     ]
    }
   ],
   "source": [
    "import intake\n",
    "import numpy as np"
   ]
  },
  {
   "cell_type": "code",
   "execution_count": 2,
   "metadata": {},
   "outputs": [],
   "source": [
    "from cmip6_preprocessing.parse_static_metrics import parse_metrics"
   ]
  },
  {
   "cell_type": "code",
   "execution_count": 3,
   "metadata": {},
   "outputs": [],
   "source": [
    "# define collection\n",
    "col = intake.open_esm_datastore(\"../../cmip6hack-ocean-bgc/catalogs/pangeo-cmip6.json\")"
   ]
  },
  {
   "cell_type": "code",
   "execution_count": 4,
   "metadata": {},
   "outputs": [
    {
     "name": "stdout",
     "output_type": "stream",
     "text": [
      "--> The keys in the returned dictionary of datasets are constructed as follows:\n",
      "\t'activity_id.institution_id.source_id.experiment_id.table_id.grid_label'\n",
      "\n",
      "--> There will be 22 group(s)\n"
     ]
    }
   ],
   "source": [
    "# # load a bunch of dataset with intake_esm\n",
    "# import warnings\n",
    "# with warnings.catch_warnings():\n",
    "#     warnings.simplefilter(\"ignore\")\n",
    "#     query = dict(experiment_id='piControl',\n",
    "#                      variable_id=['thetao'], grid_label='gn')\n",
    "#     cat = col.search(**query)\n",
    "#     cat.df\n",
    "#     raw_data_dict = cat.to_dataset_dict(zarr_kwargs={'consolidated': True}, cdf_kwargs={'chunks': {}})\n",
    "#     raw_data_dict.keys()"
   ]
  },
  {
   "cell_type": "code",
   "execution_count": 5,
   "metadata": {},
   "outputs": [
    {
     "data": {
      "text/plain": [
       "<xgcm.Grid>\n",
       "X Axis (periodic):\n",
       "  * center   x"
      ]
     },
     "execution_count": 5,
     "metadata": {},
     "output_type": "execute_result"
    }
   ],
   "source": [
    "# from xgcm import Grid\n",
    "# ds_test = raw_data_dict['CMIP.CNRM-CERFACS.CNRM-CM6-1.piControl.Omon.gn']\n",
    "# grid = Grid(ds_test, coords={'X':{'center':'x'}})\n",
    "# grid"
   ]
  },
  {
   "cell_type": "code",
   "execution_count": 5,
   "metadata": {},
   "outputs": [],
   "source": [
    "# raw_data_dict['CMIP.CNRM-CERFACS.CNRM-CM6-1.piControl.Omon.gn']"
   ]
  },
  {
   "cell_type": "code",
   "execution_count": 6,
   "metadata": {},
   "outputs": [],
   "source": [
    "# # now parse all areas...\n",
    "# with warnings.catch_warnings():\n",
    "#     warnings.simplefilter(\"ignore\")\n",
    "#     data_dict = parse_metrics(raw_data_dict, col)"
   ]
  },
  {
   "cell_type": "markdown",
   "metadata": {},
   "source": [
    "You can see there are 22 models with temp data!"
   ]
  },
  {
   "cell_type": "markdown",
   "metadata": {},
   "source": [
    "But not each one of them has an area.... It turns out that the areas are spread all over the catalogue with no discenible system. BUT THEY ARE SOMEWHERE for pretty much every model...and they should be the same for a given `source_id` and `grid_spec`. So with `parse_metrics` we can parse the area into the datasets as coordinates."
   ]
  },
  {
   "cell_type": "code",
   "execution_count": 7,
   "metadata": {},
   "outputs": [],
   "source": [
    "# new_dict = {k:ds for k, ds in data_dict.items() if 'areacello' in ds.coords}"
   ]
  },
  {
   "cell_type": "code",
   "execution_count": 8,
   "metadata": {},
   "outputs": [],
   "source": [
    "# len(new_dict)"
   ]
  },
  {
   "cell_type": "markdown",
   "metadata": {},
   "source": [
    "So we didnt get all of the models, but at least we got 17 to have an area for further calculations"
   ]
  },
  {
   "cell_type": "code",
   "execution_count": 9,
   "metadata": {},
   "outputs": [],
   "source": [
    "# new_dict['CMIP.MIROC.MIROC6.piControl.Omon.gn'].thetao"
   ]
  },
  {
   "cell_type": "code",
   "execution_count": 10,
   "metadata": {},
   "outputs": [],
   "source": [
    "query = dict(experiment_id='piControl',\n",
    "                     variable_id=['thetao', 'uo', 'vo'],table_id='Omon', grid_label='gn')"
   ]
  },
  {
   "cell_type": "code",
   "execution_count": 11,
   "metadata": {},
   "outputs": [
    {
     "name": "stdout",
     "output_type": "stream",
     "text": [
      "--> The keys in the returned dictionary of datasets are constructed as follows:\n",
      "\t'activity_id.institution_id.source_id.experiment_id.table_id.grid_label'\n",
      "\n",
      "--> There will be 22 group(s)\n",
      "--> The keys in the returned dictionary of datasets are constructed as follows:\n",
      "\t'activity_id.institution_id.source_id.experiment_id.table_id.grid_label'\n",
      "\n",
      "--> There will be 21 group(s)\n",
      "--> The keys in the returned dictionary of datasets are constructed as follows:\n",
      "\t'activity_id.institution_id.source_id.experiment_id.table_id.grid_label'\n",
      "\n",
      "--> There will be 21 group(s)\n",
      "BCC-CSM2-MR\n",
      "Grid Type: B detected\n",
      "BCC-ESM1\n",
      "Grid Type: B detected\n",
      "CAMS-CSM1-0\n",
      "Grid Type: B detected\n",
      "CanESM5\n",
      "Grid Type: C detected\n",
      "CNRM-CM6-1\n",
      "Grid Type: C detected\n",
      "<xarray.Dataset>\n",
      "Dimensions:      (axis_nbounds: 2, lev: 75, member_id: 1, nvertex: 4, time: 6000, x: 362, x_left: 362, y: 294, y_left: 294)\n",
      "Coordinates:\n",
      "  * x            (x) int64 0 1 2 3 4 5 6 7 8 ... 354 355 356 357 358 359 360 361\n",
      "  * y            (y) int64 0 1 2 3 4 5 6 7 8 ... 286 287 288 289 290 291 292 293\n",
      "  * lev          (lev) float64 0.5058 1.556 2.668 ... 5.698e+03 5.902e+03\n",
      "  * time         (time) object 1850-01-16 12:00:00 ... 2349-12-16 12:00:00\n",
      "  * member_id    (member_id) <U8 'r1i1p1f2'\n",
      "  * x_left       (x_left) float64 -0.5 0.5 1.5 2.5 ... 357.5 358.5 359.5 360.5\n",
      "  * y_left       (y_left) float64 -0.5 0.5 1.5 2.5 ... 289.5 290.5 291.5 292.5\n",
      "Dimensions without coordinates: axis_nbounds, nvertex\n",
      "Data variables:\n",
      "    lat          (y, x) float64 dask.array<chunksize=(294, 362), meta=np.ndarray>\n",
      "    bounds_lat   (y, x, nvertex) float64 dask.array<chunksize=(294, 362, 4), meta=np.ndarray>\n",
      "    bounds_lon   (y, x, nvertex) float64 dask.array<chunksize=(294, 362, 4), meta=np.ndarray>\n",
      "    lon          (y, x) float64 dask.array<chunksize=(294, 362), meta=np.ndarray>\n",
      "    lev_bounds   (lev, axis_nbounds) float64 dask.array<chunksize=(75, 2), meta=np.ndarray>\n",
      "    time_bounds  (time, axis_nbounds) object dask.array<chunksize=(6000, 2), meta=np.ndarray>\n",
      "    thetao       (member_id, time, lev, y, x) float32 dask.array<chunksize=(1, 8, 75, 294, 362), meta=np.ndarray>\n",
      "    lat_e        (y, x) float64 dask.array<chunksize=(294, 362), meta=np.ndarray>\n",
      "    lon_e        (y, x) float64 dask.array<chunksize=(294, 362), meta=np.ndarray>\n",
      "    uo           (member_id, time, lev, y, x) float32 dask.array<chunksize=(1, 7, 75, 294, 362), meta=np.ndarray>\n",
      "    lat_n        (y, x) float64 dask.array<chunksize=(294, 362), meta=np.ndarray>\n",
      "    lon_n        (y, x) float64 dask.array<chunksize=(294, 362), meta=np.ndarray>\n",
      "    vo           (member_id, time, lev, y, x) float32 dask.array<chunksize=(1, 7, 75, 294, 362), meta=np.ndarray>\n",
      "Attributes:\n",
      "    CMIP6_CV_version:       cv=6.2.3.0-7-g2019642\n",
      "    Conventions:            CF-1.7 CMIP-6.2\n",
      "    EXPID:                  CNRM-CM6-1_piControl_r1i1p1f2\n",
      "    activity_id:            CMIP\n",
      "    arpege_minor_version:   6.3.1\n",
      "    branch_method:          standard\n",
      "    branch_time_in_child:   0.0\n",
      "    branch_time_in_parent:  273932.0\n",
      "    contact:                contact.cmip@meteo.fr\n",
      "    creation_date:          2018-03-21T09:34:26Z\n",
      "    data_specs_version:     01.00.21\n",
      "    description:            DECK: control\n",
      "    dr2xml_md5sum:          f996a989d4bc796959fe96cfda3db969\n",
      "    dr2xml_version:         1.0\n",
      "    experiment:             pre-industrial control\n",
      "    experiment_id:          piControl\n",
      "    external_variables:     areacello volcello\n",
      "    forcing_index:          2\n",
      "    frequency:              mon\n",
      "    further_info_url:       https://furtherinfo.es-doc.org/CMIP6.CNRM-CERFACS...\n",
      "    grid:                   native ocean tri-polar grid with 105 k ocean cells\n",
      "    grid_label:             gn\n",
      "    history:                none\n",
      "    initialization_index:   1\n",
      "    institution:            CNRM (Centre National de Recherches Meteorologiqu...\n",
      "    institution_id:         CNRM-CERFACS\n",
      "    license:                CMIP6 model data produced by CNRM-CERFACS is lice...\n",
      "    mip_era:                CMIP6\n",
      "    name:                   /scratch/utmp/ftdir/voldoire/eclis/transfers/CNRM...\n",
      "    nemo_gelato_commit:     49095b3accd5d4c_6524fe19b00467a\n",
      "    nominal_resolution:     100 km\n",
      "    parent_activity_id:     CMIP\n",
      "    parent_experiment_id:   piControl-spinup\n",
      "    parent_mip_era:         CMIP6\n",
      "    parent_source_id:       CNRM-CM6-1\n",
      "    parent_time_units:      days since 1850-01-01 00:00:00\n",
      "    parent_variant_label:   r1i1p1f2\n",
      "    physics_index:          1\n",
      "    product:                model-output\n",
      "    realization_index:      1\n",
      "    realm:                  ocean\n",
      "    references:             http://www.umr-cnrm.fr/cmip6/references\n",
      "    source:                 CNRM-CM6-1 (2017):  aerosol: prescribed monthly f...\n",
      "    source_id:              CNRM-CM6-1\n",
      "    source_type:            AOGCM\n",
      "    sub_experiment:         none\n",
      "    sub_experiment_id:      none\n",
      "    table_id:               Omon\n",
      "    title:                  CNRM-CM6-1 model output prepared for CMIP6 / CMIP...\n",
      "    tracking_id:            hdl:21.14100/191fcb31-b7db-4857-9779-0ef8288da7bd...\n",
      "    variable_id:            thetao\n",
      "    variant_info:           . Information provided by this attribute may in s...\n",
      "    variant_label:          r1i1p1f2\n",
      "    xios_commit:            1442-shuffle\n"
     ]
    },
    {
     "ename": "ValueError",
     "evalue": "Couldn't find a center coordinate for axis Y",
     "output_type": "error",
     "traceback": [
      "\u001b[0;31m---------------------------------------------------------------------------\u001b[0m",
      "\u001b[0;31mValueError\u001b[0m                                Traceback (most recent call last)",
      "\u001b[0;32m<ipython-input-11-78ff165b38cf>\u001b[0m in \u001b[0;36m<module>\u001b[0;34m\u001b[0m\n\u001b[1;32m      3\u001b[0m \u001b[0;32mwith\u001b[0m \u001b[0mwarnings\u001b[0m\u001b[0;34m.\u001b[0m\u001b[0mcatch_warnings\u001b[0m\u001b[0;34m(\u001b[0m\u001b[0;34m)\u001b[0m\u001b[0;34m:\u001b[0m \u001b[0;31m# these lines just make sure that the warnings dont clutter your notebook\u001b[0m\u001b[0;34m\u001b[0m\u001b[0;34m\u001b[0m\u001b[0m\n\u001b[1;32m      4\u001b[0m     \u001b[0mwarnings\u001b[0m\u001b[0;34m.\u001b[0m\u001b[0msimplefilter\u001b[0m\u001b[0;34m(\u001b[0m\u001b[0;34m\"ignore\"\u001b[0m\u001b[0;34m)\u001b[0m\u001b[0;34m\u001b[0m\u001b[0;34m\u001b[0m\u001b[0m\n\u001b[0;32m----> 5\u001b[0;31m     \u001b[0mdata_dict\u001b[0m \u001b[0;34m=\u001b[0m \u001b[0mread_data\u001b[0m\u001b[0;34m(\u001b[0m\u001b[0mcol\u001b[0m\u001b[0;34m,\u001b[0m \u001b[0;34m**\u001b[0m\u001b[0mquery\u001b[0m\u001b[0;34m)\u001b[0m\u001b[0;34m\u001b[0m\u001b[0;34m\u001b[0m\u001b[0m\n\u001b[0m",
      "\u001b[0;32m~/cmip6_preprocessing/cmip6_preprocessing/preprocessing.py\u001b[0m in \u001b[0;36mread_data\u001b[0;34m(col, preview, required_variable_id, **kwargs)\u001b[0m\n\u001b[1;32m     19\u001b[0m     \u001b[0;32mfor\u001b[0m \u001b[0mmodelname\u001b[0m\u001b[0;34m,\u001b[0m \u001b[0mv_dict\u001b[0m \u001b[0;32min\u001b[0m \u001b[0;34m{\u001b[0m\u001b[0mk\u001b[0m\u001b[0;34m:\u001b[0m\u001b[0mv\u001b[0m \u001b[0;32mfor\u001b[0m \u001b[0mk\u001b[0m\u001b[0;34m,\u001b[0m\u001b[0mv\u001b[0m \u001b[0;32min\u001b[0m \u001b[0mdata_dict\u001b[0m\u001b[0;34m.\u001b[0m\u001b[0mitems\u001b[0m\u001b[0;34m(\u001b[0m\u001b[0;34m)\u001b[0m \u001b[0;32mif\u001b[0m \u001b[0mk\u001b[0m \u001b[0;32mnot\u001b[0m \u001b[0;32min\u001b[0m \u001b[0;34m[\u001b[0m\u001b[0;34m'AWI-CM-1-1-MR'\u001b[0m\u001b[0;34m]\u001b[0m\u001b[0;34m}\u001b[0m\u001b[0;34m.\u001b[0m\u001b[0mitems\u001b[0m\u001b[0;34m(\u001b[0m\u001b[0;34m)\u001b[0m\u001b[0;34m:\u001b[0m\u001b[0;34m\u001b[0m\u001b[0;34m\u001b[0m\u001b[0m\n\u001b[1;32m     20\u001b[0m         \u001b[0mprint\u001b[0m\u001b[0;34m(\u001b[0m\u001b[0mmodelname\u001b[0m\u001b[0;34m)\u001b[0m\u001b[0;34m\u001b[0m\u001b[0;34m\u001b[0m\u001b[0m\n\u001b[0;32m---> 21\u001b[0;31m         \u001b[0mdata_final\u001b[0m\u001b[0;34m[\u001b[0m\u001b[0mmodelname\u001b[0m\u001b[0;34m]\u001b[0m \u001b[0;34m=\u001b[0m \u001b[0mfull_preprocessing\u001b[0m\u001b[0;34m(\u001b[0m\u001b[0mv_dict\u001b[0m\u001b[0;34m,\u001b[0m \u001b[0mmodelname\u001b[0m\u001b[0;34m,\u001b[0m \u001b[0mplot\u001b[0m\u001b[0;34m=\u001b[0m\u001b[0;32mFalse\u001b[0m\u001b[0;34m)\u001b[0m\u001b[0;34m\u001b[0m\u001b[0;34m\u001b[0m\u001b[0m\n\u001b[0m\u001b[1;32m     22\u001b[0m     \u001b[0;32mreturn\u001b[0m \u001b[0mdata_final\u001b[0m\u001b[0;34m\u001b[0m\u001b[0;34m\u001b[0m\u001b[0m\n\u001b[1;32m     23\u001b[0m \u001b[0;34m\u001b[0m\u001b[0m\n",
      "\u001b[0;32m~/cmip6_preprocessing/cmip6_preprocessing/preprocessing.py\u001b[0m in \u001b[0;36mfull_preprocessing\u001b[0;34m(dat_dict, modelname, tracer_ref, u_ref, v_ref, plot, verbose)\u001b[0m\n\u001b[1;32m    103\u001b[0m         \u001b[0mprint\u001b[0m\u001b[0;34m(\u001b[0m\u001b[0mds\u001b[0m\u001b[0;34m)\u001b[0m\u001b[0;34m\u001b[0m\u001b[0;34m\u001b[0m\u001b[0m\n\u001b[1;32m    104\u001b[0m \u001b[0;34m\u001b[0m\u001b[0m\n\u001b[0;32m--> 105\u001b[0;31m     \u001b[0mgrid_temp\u001b[0m \u001b[0;34m=\u001b[0m \u001b[0mGrid\u001b[0m\u001b[0;34m(\u001b[0m\u001b[0mds\u001b[0m\u001b[0;34m)\u001b[0m\u001b[0;34m\u001b[0m\u001b[0;34m\u001b[0m\u001b[0m\n\u001b[0m\u001b[1;32m    106\u001b[0m     \u001b[0mds\u001b[0m \u001b[0;34m=\u001b[0m \u001b[0mrecreate_metrics\u001b[0m\u001b[0;34m(\u001b[0m\u001b[0mds\u001b[0m\u001b[0;34m,\u001b[0m \u001b[0mgrid_temp\u001b[0m\u001b[0;34m)\u001b[0m\u001b[0;34m\u001b[0m\u001b[0;34m\u001b[0m\u001b[0m\n\u001b[1;32m    107\u001b[0m     \u001b[0;32mreturn\u001b[0m \u001b[0mds\u001b[0m\u001b[0;34m\u001b[0m\u001b[0;34m\u001b[0m\u001b[0m\n",
      "\u001b[0;32m/srv/conda/envs/notebook/lib/python3.7/site-packages/xgcm/grid.py\u001b[0m in \u001b[0;36m__init__\u001b[0;34m(self, ds, check_dims, periodic, default_shifts, face_connections, coords, metrics)\u001b[0m\n\u001b[1;32m    830\u001b[0m                 \u001b[0mis_periodic\u001b[0m\u001b[0;34m,\u001b[0m\u001b[0;34m\u001b[0m\u001b[0;34m\u001b[0m\u001b[0m\n\u001b[1;32m    831\u001b[0m                 \u001b[0mdefault_shifts\u001b[0m\u001b[0;34m=\u001b[0m\u001b[0maxis_default_shifts\u001b[0m\u001b[0;34m,\u001b[0m\u001b[0;34m\u001b[0m\u001b[0;34m\u001b[0m\u001b[0m\n\u001b[0;32m--> 832\u001b[0;31m                 \u001b[0mcoords\u001b[0m\u001b[0;34m=\u001b[0m\u001b[0mcoords\u001b[0m\u001b[0;34m.\u001b[0m\u001b[0mget\u001b[0m\u001b[0;34m(\u001b[0m\u001b[0maxis_name\u001b[0m\u001b[0;34m)\u001b[0m\u001b[0;34m,\u001b[0m\u001b[0;34m\u001b[0m\u001b[0;34m\u001b[0m\u001b[0m\n\u001b[0m\u001b[1;32m    833\u001b[0m             )\n\u001b[1;32m    834\u001b[0m \u001b[0;34m\u001b[0m\u001b[0m\n",
      "\u001b[0;32m/srv/conda/envs/notebook/lib/python3.7/site-packages/xgcm/grid.py\u001b[0m in \u001b[0;36m__init__\u001b[0;34m(self, ds, axis_name, periodic, default_shifts, coords)\u001b[0m\n\u001b[1;32m     91\u001b[0m         \u001b[0;32melse\u001b[0m\u001b[0;34m:\u001b[0m\u001b[0;34m\u001b[0m\u001b[0;34m\u001b[0m\u001b[0m\n\u001b[1;32m     92\u001b[0m             \u001b[0;31m# fall back on comodo conventions\u001b[0m\u001b[0;34m\u001b[0m\u001b[0;34m\u001b[0m\u001b[0;34m\u001b[0m\u001b[0m\n\u001b[0;32m---> 93\u001b[0;31m             \u001b[0mself\u001b[0m\u001b[0;34m.\u001b[0m\u001b[0mcoords\u001b[0m \u001b[0;34m=\u001b[0m \u001b[0mcomodo\u001b[0m\u001b[0;34m.\u001b[0m\u001b[0mget_axis_positions_and_coords\u001b[0m\u001b[0;34m(\u001b[0m\u001b[0mds\u001b[0m\u001b[0;34m,\u001b[0m \u001b[0maxis_name\u001b[0m\u001b[0;34m)\u001b[0m\u001b[0;34m\u001b[0m\u001b[0;34m\u001b[0m\u001b[0m\n\u001b[0m\u001b[1;32m     94\u001b[0m \u001b[0;34m\u001b[0m\u001b[0m\n\u001b[1;32m     95\u001b[0m         \u001b[0;31m# self.coords is a dictionary with the following structure\u001b[0m\u001b[0;34m\u001b[0m\u001b[0;34m\u001b[0m\u001b[0;34m\u001b[0m\u001b[0m\n",
      "\u001b[0;32m/srv/conda/envs/notebook/lib/python3.7/site-packages/xgcm/comodo.py\u001b[0m in \u001b[0;36mget_axis_positions_and_coords\u001b[0;34m(ds, axis_name)\u001b[0m\n\u001b[1;32m     83\u001b[0m     }\n\u001b[1;32m     84\u001b[0m     \u001b[0;32mif\u001b[0m \u001b[0mlen\u001b[0m\u001b[0;34m(\u001b[0m\u001b[0mcoords_without_axis_shift\u001b[0m\u001b[0;34m)\u001b[0m \u001b[0;34m==\u001b[0m \u001b[0;36m0\u001b[0m\u001b[0;34m:\u001b[0m\u001b[0;34m\u001b[0m\u001b[0;34m\u001b[0m\u001b[0m\n\u001b[0;32m---> 85\u001b[0;31m         \u001b[0;32mraise\u001b[0m \u001b[0mValueError\u001b[0m\u001b[0;34m(\u001b[0m\u001b[0;34m\"Couldn't find a center coordinate for axis %s\"\u001b[0m \u001b[0;34m%\u001b[0m \u001b[0maxis_name\u001b[0m\u001b[0;34m)\u001b[0m\u001b[0;34m\u001b[0m\u001b[0;34m\u001b[0m\u001b[0m\n\u001b[0m\u001b[1;32m     86\u001b[0m     \u001b[0;32melif\u001b[0m \u001b[0mlen\u001b[0m\u001b[0;34m(\u001b[0m\u001b[0mcoords_without_axis_shift\u001b[0m\u001b[0;34m)\u001b[0m \u001b[0;34m>\u001b[0m \u001b[0;36m1\u001b[0m\u001b[0;34m:\u001b[0m\u001b[0;34m\u001b[0m\u001b[0;34m\u001b[0m\u001b[0m\n\u001b[1;32m     87\u001b[0m         raise ValueError(\n",
      "\u001b[0;31mValueError\u001b[0m: Couldn't find a center coordinate for axis Y"
     ]
    }
   ],
   "source": [
    "# load the same thing with preprocessing\n",
    "from cmip6_preprocessing.preprocessing import read_data\n",
    "with warnings.catch_warnings(): # these lines just make sure that the warnings dont clutter your notebook\n",
    "    warnings.simplefilter(\"ignore\")\n",
    "    data_dict = read_data(col, **query)"
   ]
  },
  {
   "cell_type": "code",
   "execution_count": null,
   "metadata": {},
   "outputs": [],
   "source": [
    "data_dict"
   ]
  },
  {
   "cell_type": "code",
   "execution_count": null,
   "metadata": {},
   "outputs": [],
   "source": [
    "parse_metrics(data_dict, col, rename=True) #rename is important to get the consistent naming!"
   ]
  },
  {
   "cell_type": "code",
   "execution_count": null,
   "metadata": {},
   "outputs": [],
   "source": []
  }
 ],
 "metadata": {
  "kernelspec": {
   "display_name": "Python 3",
   "language": "python",
   "name": "python3"
  },
  "language_info": {
   "codemirror_mode": {
    "name": "ipython",
    "version": 3
   },
   "file_extension": ".py",
   "mimetype": "text/x-python",
   "name": "python",
   "nbconvert_exporter": "python",
   "pygments_lexer": "ipython3",
   "version": "3.7.6"
  }
 },
 "nbformat": 4,
 "nbformat_minor": 4
}
