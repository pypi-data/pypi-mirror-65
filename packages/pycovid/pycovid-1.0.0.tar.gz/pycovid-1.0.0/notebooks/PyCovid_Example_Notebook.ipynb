{
  "nbformat": 4,
  "nbformat_minor": 0,
  "metadata": {
    "colab": {
      "name": "PyCovid_Example_Notebook.ipynb",
      "provenance": [],
      "private_outputs": true,
      "authorship_tag": "ABX9TyOuaIZf3scH9pWGD5q2rzwX",
      "include_colab_link": true
    },
    "kernelspec": {
      "name": "python3",
      "display_name": "Python 3"
    }
  },
  "cells": [
    {
      "cell_type": "markdown",
      "metadata": {
        "id": "view-in-github",
        "colab_type": "text"
      },
      "source": [
        "<a href=\"https://colab.research.google.com/github/kylemath/pycovid/blob/master/notebooks/PyCovid_Example_Notebook.ipynb\" target=\"_parent\"><img src=\"https://colab.research.google.com/assets/colab-badge.svg\" alt=\"Open In Colab\"/></a>"
      ]
    },
    {
      "cell_type": "code",
      "metadata": {
        "id": "vhObgZV0unt1",
        "colab_type": "code",
        "colab": {}
      },
      "source": [
        "pip install pycovid"
      ],
      "execution_count": 0,
      "outputs": []
    },
    {
      "cell_type": "code",
      "metadata": {
        "id": "TQc1thiUuagI",
        "colab_type": "code",
        "colab": {}
      },
      "source": [
        "from pycovid import pycovid\n",
        "\n",
        "# pycovid.plot_countries_trend(countries=['Iran', 'Italy', 'Spain', 'Portugal', 'Japan', 'Germany', 'Mexico'],\n",
        "# \t\t\tcasetype=['confirmed'], start_date=\"2020-01-01\", plottype=\"linear\")\n",
        "\n",
        "# pycovid.plot_provinces(country=['China'],  \n",
        "# \t\t\tcasetype=['confirmed'], start_date=\"2019-10-01\", plottype=\"log\")\n",
        "# pycovid.plot_provinces(country=['Australia'],  \n",
        "# \t\t\tcasetype=['confirmed'], start_date=\"2019-12-01\", plottype=\"log\")\n",
        "# pycovid.plot_provinces(country=['US'],  \n",
        "# \t\t\tcasetype=['confirmed'], start_date=\"2019-12-01\", plottype=\"log\")\n",
        "# pycovid.plot_provinces(country=['Canada'],  \n",
        "# \t\t\tcasetype=['confirmed'], start_date=\"2019-12-01\", plottype=\"log\")\n",
        "\n",
        "pycovid.plot_countries()\n"
      ],
      "execution_count": 0,
      "outputs": []
    }
  ]
}